{
 "cells": [
  {
   "cell_type": "code",
   "execution_count": 1,
   "metadata": {
    "id": "l82JFshRl0J8"
   },
   "outputs": [],
   "source": [
    "import numpy as np\n",
    "from matplotlib import pyplot as plt\n",
    "from scipy.optimize import minimize\n",
    "from numba import jit, njit\n",
    "from scipy.stats import  t"
   ]
  },
  {
   "cell_type": "code",
   "execution_count": 2,
   "metadata": {
    "id": "9i0pEU8Ql0J_"
   },
   "outputs": [],
   "source": [
    "class StochasticProcess:\n",
    "    def __init__(self, params, T, Nx, Nt, init_state = None):\n",
    "        self.params = params\n",
    "        self.T = T\n",
    "        self.Nx = Nx # Number of trajectories\n",
    "        self.Nt = Nt # Number of discretization steps\n",
    "        self.init_state = init_state\n",
    "\n",
    "    # Wiener Process by default\n",
    "    # use @staticmethod for numba compatibility with @njit\n",
    "    @staticmethod\n",
    "    @njit\n",
    "    def bxt(x, t, params):\n",
    "        return 0\n",
    "\n",
    "    @staticmethod\n",
    "    @njit\n",
    "    def sigmaxt(x, t, params):\n",
    "        return 1\n",
    "\n",
    "    @staticmethod\n",
    "    @njit\n",
    "    def bxt_x(x, t, params):\n",
    "        return 0\n",
    "\n",
    "    @staticmethod\n",
    "    @njit\n",
    "    def bxt_xx(x, t, params):\n",
    "        return 0\n",
    "\n",
    "    @staticmethod\n",
    "    @njit\n",
    "    def sigmaxt_x(x, t, params):\n",
    "        return 0\n",
    "\n",
    "    @staticmethod\n",
    "    @njit\n",
    "    def sigmaxt_xx(x, t, params):\n",
    "        return 0\n",
    "\n",
    "    @staticmethod\n",
    "    @njit\n",
    "    def bxt_t(x, t, params):\n",
    "        return 0\n",
    "\n",
    "    def DefaultInitState(self):\n",
    "        return np.zeros(self.Nx)\n",
    "\n",
    "    def EulerSolution(self, dwt = None):\n",
    "        dt = self.T / self.Nt\n",
    "        t_data = np.linspace(0, self.T, self.Nt + 1)\n",
    "        x_data = np.zeros((self.Nt + 1, self.Nx))\n",
    "\n",
    "        if dwt is None:\n",
    "            dwt = np.random.normal(0, 1, size = (self.Nt, self.Nx)) * np.sqrt(dt)\n",
    "\n",
    "        if self.init_state is None:\n",
    "            x_data[0] = self.DefaultInitState()\n",
    "        else:\n",
    "            x_data[0] = self.init_state\n",
    "\n",
    "        for i in range(1, self.Nt + 1):\n",
    "            x_data[i] = x_data[i - 1] + self.bxt(x_data[i - 1], t_data[i - 1], self.params) * dt +\\\n",
    "                        self.sigmaxt(x_data[i - 1], t_data[i - 1], self.params) * dwt[i - 1]\n",
    "        return t_data, x_data\n",
    "\n",
    "    @staticmethod\n",
    "    @njit\n",
    "    def EulerDensity(x, t, x0, t0, params, bxt, bxt_x, bxt_xx, sigmaxt, sigmaxt_x, sigmaxt_xx, bxt_t):\n",
    "        xs = x0 + bxt(x0, t0, params) * (t - t0)\n",
    "        sigma2 = sigmaxt(x0, t0, params)**2 * (t - t0)\n",
    "\n",
    "        return -1/2 * np.log(2 * np.pi * sigma2) - (x - xs)**2 / (2 * sigma2)\n",
    "\n",
    "    @staticmethod\n",
    "    @njit\n",
    "    def OzakiDensity(x, t, x0, t0, params, bxt, bxt_x, bxt_xx, sigmaxt, sigmaxt_x, sigmaxt_xx, bxt_t):\n",
    "        K = 1 / (t - t0) * np.log(1 + bxt(x0, t0, params) / (x0 * bxt_x(x0, t0, params)) * (np.exp(bxt_x(x0, t0, params) * (t - t0)) - 1))\n",
    "        E = x0 + bxt(x0, t0, params) / bxt_x(x0, t0, params) * (np.exp(bxt_x(x0, t0, params) * (t - t0)) - 1)\n",
    "        V = sigmaxt(x0, t0, params)**2 / (2 * K) * (np.exp(2 * K * (t - t0)) - 1)\n",
    "\n",
    "        xs = E\n",
    "        sigma2 = V\n",
    "\n",
    "        return -1/2 * np.log(2 * np.pi * sigma2) - (x - xs)**2 / (2 * sigma2)\n",
    "\n",
    "    @staticmethod\n",
    "    @njit\n",
    "    def ShojiOzakiDensity(x, t, x0, t0, params, bxt, bxt_x, bxt_xx, sigmaxt, sigmaxt_x, sigmaxt_xx, bxt_t):\n",
    "        L = bxt_x(x0, t0, params)\n",
    "\n",
    "        #safe division\n",
    "        if L == 0:\n",
    "            L = L + 0.001\n",
    "\n",
    "        M = sigmaxt(x0, t0, params)**2 / 2 * bxt_xx(x0, t0, params) + bxt_t(x0, t0, params)\n",
    "\n",
    "        A = 1 + bxt(x0, t0, params) / (x0 * L) * (np.exp(L * (t - t0)) - 1) + M / (x0 * L**2) * \\\n",
    "            (np.exp(L * (t - t0)) - 1 - L * (t - t0))\n",
    "        B = sigmaxt(x0, t0, params)**2 * 1/(2 * L) * (np.exp(2 * L * (t - t0)) - 1)\n",
    "\n",
    "        xs = A * x0\n",
    "        sigma2 = B\n",
    "\n",
    "        return -1/2 * np.log(2 * np.pi * sigma2) - (x - xs)**2 / (2 * sigma2)\n",
    "\n",
    "    @staticmethod\n",
    "    @njit\n",
    "    def KesslerDensity(x, t, x0, t0, params, bxt, bxt_x, bxt_xx, sigmaxt, sigmaxt_x, sigmaxt_xx, bxt_t):\n",
    "        E = x0 + bxt(x0, t0, params) * (t - t0) + (bxt(x0, t0, params) * bxt_x(x0, t0, params) + 1/2 * \\\n",
    "            sigmaxt(x0, t0, params)**2 * bxt_xx(x0, t0, params)) * 1/2 * (t - t0)**2\n",
    "        V = x0**2 + (2 * bxt(x0, t0, params) * x0 + sigmaxt(x0, t0, params)**2 ) * (t - t0)\\\n",
    "            + (2 * bxt(x0, t0, params) * (bxt_x(x0, t0, params) * x0 + bxt(x0, t0, params) + \\\n",
    "                sigmaxt(x0, t0, params) * sigmaxt_x(x0, t0, params))\\\n",
    "            + sigmaxt(x0, t0, params)**2 * (bxt_xx(x0, t0, params) * x0 + 2 * bxt_x(x0, t0, params) +\\\n",
    "                sigmaxt_x(x0, t0, params)**2 + sigmaxt(x0, t0, params) * sigmaxt_xx(x0, t0, params))) * (t - t0)**2 / 2 - E**2\n",
    "\n",
    "        xs = E\n",
    "\n",
    "        #safe division\n",
    "        if V == 0:\n",
    "            V = V + 0.001\n",
    "\n",
    "        sigma2 = V\n",
    "\n",
    "        return -1/2 * np.log(2 * np.pi * sigma2) - (x - xs)**2 / (2 * sigma2)\n",
    "\n",
    "    @staticmethod\n",
    "    @njit\n",
    "    def MLogLik(params, t_data, x_data, density, bxt, bxt_x, bxt_xx, sigmaxt, sigmaxt_x, sigmaxt_xx, bxt_t):\n",
    "        Nt = len(x_data)\n",
    "        Nx = len(x_data[0])\n",
    "        log_data = np.zeros(Nx)\n",
    "        for k in range(0, Nx):\n",
    "            m_log_lik = 0\n",
    "            for j in range(1, Nt):\n",
    "                m_log_lik += density(x_data[j][k], t_data[j], x_data[j - 1][k], t_data[j - 1], params,\n",
    "                                     bxt, bxt_x, bxt_xx, sigmaxt, sigmaxt_x, sigmaxt_xx, bxt_t)\n",
    "            log_data[k] = m_log_lik\n",
    "\n",
    "        res = -np.mean(log_data)\n",
    "        return res\n",
    "\n",
    "    def EulerEstimation(self, t_data, x_data):\n",
    "        x0 = np.ones(len(self.params))\n",
    "        accuracy = 1e-8\n",
    "\n",
    "        min_result = minimize(self.MLogLik,\n",
    "                              x0 = x0,\n",
    "                              args=(t_data, x_data, self.EulerDensity,\n",
    "                              self.bxt, self.bxt_x, self.bxt_xx, self.sigmaxt, self.sigmaxt_x, self.sigmaxt_xx,\n",
    "                              self.bxt_t),\n",
    "                              method = 'L-BFGS-B',\n",
    "                              options={'ftol': accuracy, 'eps': accuracy})\n",
    "        return min_result\n",
    "\n",
    "    def OzakiEstimation(self, t_data, x_data):\n",
    "        x0 = np.ones(len(self.params))\n",
    "        accuracy = 1e-8\n",
    "\n",
    "        min_result = minimize(self.MLogLik,\n",
    "                              x0 = x0,\n",
    "                              args=(t_data, x_data, self.OzakiDensity,\n",
    "                              self.bxt, self.bxt_x, self.bxt_xx, self.sigmaxt, self.sigmaxt_x, self.sigmaxt_xx,\n",
    "                              self.bxt_t),\n",
    "                              method = 'L-BFGS-B',\n",
    "                              options={'ftol': accuracy, 'eps': accuracy})\n",
    "        return min_result\n",
    "\n",
    "    def ShojiOzakiEstimation(self, t_data, x_data):\n",
    "        x0 = np.ones(len(self.params))\n",
    "        accuracy = 1e-8\n",
    "\n",
    "        min_result = minimize(self.MLogLik,\n",
    "                              x0 = x0,\n",
    "                              args=(t_data, x_data, self.ShojiOzakiDensity,\n",
    "                              self.bxt, self.bxt_x, self.bxt_xx, self.sigmaxt, self.sigmaxt_x, self.sigmaxt_xx,\n",
    "                              self.bxt_t),\n",
    "                              method = 'L-BFGS-B',\n",
    "                              options={'ftol': accuracy, 'eps': accuracy})\n",
    "        return min_result\n",
    "\n",
    "    def KesslerEstimation(self, t_data, x_data):\n",
    "        x0 = np.ones(len(self.params))\n",
    "        accuracy = 1e-8\n",
    "\n",
    "        min_result = minimize(self.MLogLik,\n",
    "                              x0 = x0,\n",
    "                              args=(t_data, x_data, self.KesslerDensity,\n",
    "                              self.bxt, self.bxt_x, self.bxt_xx, self.sigmaxt, self.sigmaxt_x, self.sigmaxt_xx,\n",
    "                              self.bxt_t),\n",
    "                              method = 'L-BFGS-B',\n",
    "                              options={'ftol': accuracy, 'eps': accuracy})\n",
    "        return min_result\n",
    "\n",
    "\n",
    "class OUprocess(StochasticProcess):\n",
    "    def __init__(self, params, T, Nx, Nt, init_state = None):\n",
    "        super().__init__(params, T, Nx, Nt, init_state)\n",
    "\n",
    "    # params = [theta, mu, sigma]\n",
    "\n",
    "    @staticmethod\n",
    "    @njit\n",
    "    def bxt(x, t, params):\n",
    "        return params[0] * (params[1] - x)\n",
    "\n",
    "    @staticmethod\n",
    "    @njit\n",
    "    def sigmaxt(x, t, params):\n",
    "        return params[2]\n",
    "\n",
    "    @staticmethod\n",
    "    @njit\n",
    "    def bxt_x(x, t, params):\n",
    "        return -params[0]\n",
    "\n",
    "    def DefaultInitState(self):\n",
    "        return self.params[1] * np.ones(self.Nx)\n",
    "\n",
    "class CKLSprocess(StochasticProcess):\n",
    "    def __init__(self, params, T, Nx, Nt, init_state = None):\n",
    "        super().__init__(params, T, Nx, Nt, init_state)\n",
    "\n",
    "    # params = [theta1, theta2, theta3]\n",
    "    @staticmethod\n",
    "    @njit\n",
    "    def bxt(x, t, params):\n",
    "        return params[0] + params[1] * x\n",
    "\n",
    "    @staticmethod\n",
    "    @njit\n",
    "    def sigmaxt(x, t, params):\n",
    "        return params[2] * x**params[3]\n",
    "\n",
    "    @staticmethod\n",
    "    @njit\n",
    "    def bxt_x(x, t, params):\n",
    "        return params[1]\n",
    "\n",
    "    @staticmethod\n",
    "    @njit\n",
    "    def sigmaxt_x(x, t, params):\n",
    "        return params[2] * params[3] * x**(params[3] - 1)\n",
    "\n",
    "    @staticmethod\n",
    "    @njit\n",
    "    def sigmaxt_xx(x, t, params):\n",
    "        return params[2] * params[3] * (params[3] - 1) * x**(params[3] - 2)\n",
    "\n",
    "    def DefaultInitState(self):\n",
    "        return self.params[0] / self.params[1] * np.ones(self.Nx)\n",
    "\n",
    "class Task5process(StochasticProcess):\n",
    "    def __init__(self, params, T, Nx, Nt, init_state = None):\n",
    "        super().__init__(params, T, Nx, Nt, init_state)\n",
    "\n",
    "    # params = [theta1, theta2]\n",
    "    @staticmethod\n",
    "    @njit\n",
    "    def bxt(x, t, params):\n",
    "        return params[0] * t * x\n",
    "\n",
    "    @staticmethod\n",
    "    @njit\n",
    "    def sigmaxt(x, t, params):\n",
    "        return params[1] * x\n",
    "\n",
    "    @staticmethod\n",
    "    @njit\n",
    "    def bxt_x(x, t, params):\n",
    "        return params[0] * t\n",
    "\n",
    "    @staticmethod\n",
    "    @njit\n",
    "    def sigmaxt_x(x, t, params):\n",
    "        return params[1]\n",
    "\n",
    "    @staticmethod\n",
    "    @njit\n",
    "    def bxt_t(x, t, params):\n",
    "        return params[0] * x\n",
    "\n",
    "    def DefaultInitState(self):\n",
    "        return self.params[0] / self.params[1] * np.ones(self.Nx)\n",
    "\n",
    "class HullWhiteprocess(StochasticProcess):\n",
    "    def __init__(self, params, T, Nx, Nt, init_state = None):\n",
    "        super().__init__(params, T, Nx, Nt, init_state)\n",
    "\n",
    "    # params = [theta1, theta2, theta3]\n",
    "    @staticmethod\n",
    "    @njit\n",
    "    def bxt(x, t, params):\n",
    "        return params[0] * t * (params[1] * np.sqrt(t) - x)\n",
    "\n",
    "    @staticmethod\n",
    "    @njit\n",
    "    def sigmaxt(x, t, params):\n",
    "        return params[2] * t\n",
    "\n",
    "    @staticmethod\n",
    "    @njit\n",
    "    def bxt_x(x, t, params):\n",
    "        return -params[0] * t\n",
    "\n",
    "    @staticmethod\n",
    "    @njit\n",
    "    def bxt_t(x, t, params):\n",
    "        return params[0] * params[1] * 3/2 * np.sqrt(t)\n",
    "\n",
    "    def DefaultInitState(self):\n",
    "        return self.params[1] * np.ones(self.Nx)"
   ]
  },
  {
   "cell_type": "markdown",
   "metadata": {
    "id": "7ZI2_4Tzl0KA"
   },
   "source": [
    "Task 1. Evaluate the conditional density of the Ornstein-Uhlenbeck process\n",
    "$$dX_t = (3-X_t)dt+2dW_t, \\quad X_0=1, \\quad %\\theta=(1, 3, 2), \\quad\n",
    "N=100000,\n",
    "\\quad \\Delta=1$$ and calculate the\n",
    "maximum likelihood estimation.  "
   ]
  },
  {
   "cell_type": "code",
   "execution_count": 3,
   "metadata": {
    "id": "VR1fEqA9l0KB"
   },
   "outputs": [],
   "source": [
    "Nx = 100000\n",
    "Nt = 300\n",
    "\n",
    "T = 1\n",
    "\n",
    "params_OU = np.array([3, 1, 2])\n",
    "\n",
    "x0 = 1\n",
    "init_state = x0 * np.ones(Nx)\n",
    "\n",
    "OUp = OUprocess(params_OU, T, Nx, Nt, init_state)\n",
    "\n",
    "t_data, x_data_OU = OUp.EulerSolution()"
   ]
  },
  {
   "cell_type": "code",
   "execution_count": 4,
   "metadata": {
    "colab": {
     "base_uri": "https://localhost:8080/"
    },
    "id": "IQF701lNl0KB",
    "outputId": "7210dcfb-addf-42bc-c34f-b687247c305d"
   },
   "outputs": [
    {
     "data": {
      "text/plain": [
       "  message: CONVERGENCE: REL_REDUCTION_OF_F_<=_FACTR*EPSMCH\n",
       "  success: True\n",
       "   status: 0\n",
       "      fun: -221.9334978254802\n",
       "        x: [ 2.984e+00  9.962e-01  2.000e+00]\n",
       "      nit: 15\n",
       "      jac: [-3.951e-04 -5.724e-03  2.186e-03]\n",
       "     nfev: 68\n",
       "     njev: 17\n",
       " hess_inv: <3x3 LbfgsInvHessProduct with dtype=float64>"
      ]
     },
     "execution_count": 4,
     "metadata": {},
     "output_type": "execute_result"
    }
   ],
   "source": [
    "OUp.EulerEstimation(t_data, x_data_OU)"
   ]
  },
  {
   "cell_type": "code",
   "execution_count": 5,
   "metadata": {
    "colab": {
     "base_uri": "https://localhost:8080/"
    },
    "id": "YAxgB8Y6k7MC",
    "outputId": "cc53f0c1-6485-4df6-cbbf-42eb8153ae40"
   },
   "outputs": [
    {
     "data": {
      "text/plain": [
       "  message: CONVERGENCE: REL_REDUCTION_OF_F_<=_FACTR*EPSMCH\n",
       "  success: True\n",
       "   status: 0\n",
       "      fun: -221.93350710493922\n",
       "        x: [ 3.003e+00  9.990e-01  2.010e+00]\n",
       "      nit: 15\n",
       "      jac: [-8.527e-06  4.917e-04  9.464e-04]\n",
       "     nfev: 72\n",
       "     njev: 18\n",
       " hess_inv: <3x3 LbfgsInvHessProduct with dtype=float64>"
      ]
     },
     "execution_count": 5,
     "metadata": {},
     "output_type": "execute_result"
    }
   ],
   "source": [
    "OUp.ShojiOzakiEstimation(t_data, x_data_OU)"
   ]
  },
  {
   "cell_type": "code",
   "execution_count": 6,
   "metadata": {
    "colab": {
     "base_uri": "https://localhost:8080/"
    },
    "id": "Ywod-4uYoHJP",
    "outputId": "b325eb64-3c53-4a36-ecb7-786040bbebb9"
   },
   "outputs": [
    {
     "data": {
      "text/plain": [
       "  message: CONVERGENCE: REL_REDUCTION_OF_F_<=_FACTR*EPSMCH\n",
       "  success: True\n",
       "   status: 0\n",
       "      fun: -221.933504858983\n",
       "        x: [ 3.003e+00  9.991e-01  2.010e+00]\n",
       "      nit: 15\n",
       "      jac: [ 2.018e-04 -1.137e-05 -1.270e-03]\n",
       "     nfev: 72\n",
       "     njev: 18\n",
       " hess_inv: <3x3 LbfgsInvHessProduct with dtype=float64>"
      ]
     },
     "execution_count": 6,
     "metadata": {},
     "output_type": "execute_result"
    }
   ],
   "source": [
    "OUp.KesslerEstimation(t_data, x_data_OU)"
   ]
  },
  {
   "cell_type": "markdown",
   "metadata": {
    "id": "vTtFMxh2opn9"
   },
   "source": [
    "Task. Find the maximum likelihood estimators  numerically\n",
    " for Ornstein-Uhlenbeck process\n",
    " $$\n",
    " dX_t = -\\theta_2X_tdt + \\theta_3dW_t, \\quad \\theta=(0, 3, 2), \\quad\n",
    "N=1000, \\quad \\Delta=1\n",
    "$$\n",
    "and compare with explicit estimations\n",
    "\n",
    "$$\n",
    "\\hat{\\theta}_{2,n} = -\\frac{1}{\\Delta}\\log \\left(\\frac{\\sum_{i=1}^n X_{i-1}X_i} {\\sum_{i=1}^n X^2_{i-1}}\\right),\n",
    "$$\n",
    "$$\n",
    "\\hat{\\theta}_{3,n} = \\sqrt{\\frac{2\\hat{\\theta}_{2,n}}\n",
    "{n(1 - e^{-2\\Delta  \\hat{\\theta}_{2,n}})}\n",
    "\\sum_{i=1}^n (X_i- X_{i-1} e^{-\\Delta \\hat{\\theta}_{2, n}})^2}.\n",
    "$$"
   ]
  },
  {
   "cell_type": "code",
   "execution_count": 7,
   "metadata": {
    "id": "pEX9Bo4ArRS9"
   },
   "outputs": [
    {
     "name": "stdout",
     "output_type": "stream",
     "text": [
      "MLE Estimation Result for OU Process:   message: CONVERGENCE: REL_REDUCTION_OF_F_<=_FACTR*EPSMCH\n",
      "  success: True\n",
      "   status: 0\n",
      "      fun: -221.95192973901777\n",
      "        x: [ 3.005e+00  1.001e+00  2.000e+00]\n",
      "      nit: 14\n",
      "      jac: [-5.144e-04  3.246e-03 -4.150e-04]\n",
      "     nfev: 64\n",
      "     njev: 16\n",
      " hess_inv: <3x3 LbfgsInvHessProduct with dtype=float64>\n"
     ]
    },
    {
     "data": {
      "image/png": "[encoded data removed]",
      "text/plain": [
       "<Figure size 640x480 with 1 Axes>"
      ]
     },
     "metadata": {},
     "output_type": "display_data"
    }
   ],
   "source": [
    "import numpy as np\n",
    "from scipy.optimize import minimize\n",
    "from matplotlib import pyplot as plt\n",
    "\n",
    "# Define the Ornstein-Uhlenbeck Process class\n",
    "class OUprocess(StochasticProcess):\n",
    "    def __init__(self, params, T, Nx, Nt, init_state=None):\n",
    "        super().__init__(params, T, Nx, Nt, init_state)\n",
    "        \n",
    "    # params = [theta, mu, sigma]\n",
    "    @staticmethod\n",
    "    @njit\n",
    "    def bxt(x, t, params):\n",
    "        return params[0] * (params[1] - x)\n",
    "    \n",
    "    @staticmethod\n",
    "    @njit\n",
    "    def sigmaxt(x, t, params):\n",
    "        return params[2]\n",
    "    \n",
    "    @staticmethod\n",
    "    @njit\n",
    "    def bxt_x(x, t, params):\n",
    "        return -params[0]\n",
    "\n",
    "    def DefaultInitState(self):\n",
    "        return self.params[1] * np.ones(self.Nx)\n",
    "\n",
    "\n",
    "# Define the simulation parameters\n",
    "Nx = 100000\n",
    "Nt = 300\n",
    "T = 1\n",
    "params_OU = np.array([3, 1, 2])  # theta_2 = 3, mu = 1, sigma = 2\n",
    "x0 = 1\n",
    "init_state = x0 * np.ones(Nx)\n",
    "\n",
    "# Initialize the OU process\n",
    "OUp = OUprocess(params_OU, T, Nx, Nt, init_state)\n",
    "\n",
    "# Simulate the process using Euler method\n",
    "t_data, x_data_OU = OUp.EulerSolution()\n",
    "\n",
    "# Estimate parameters using Euler method (Maximum Likelihood Estimation)\n",
    "result = OUp.EulerEstimation(t_data, x_data_OU)\n",
    "print(\"MLE Estimation Result for OU Process:\", result)\n",
    "\n",
    "# Plot a sample trajectory of the simulated process\n",
    "plt.plot(t_data, x_data_OU[:, 0])\n",
    "plt.xlabel('Time')\n",
    "plt.ylabel('X(t)')\n",
    "plt.title('Sample Trajectory of the OU Process')\n",
    "plt.show()\n"
   ]
  },
  {
   "cell_type": "code",
   "execution_count": 8,
   "metadata": {},
   "outputs": [
    {
     "name": "stdout",
     "output_type": "stream",
     "text": [
      "Explicit Estimation of theta_2: 1.0780416239424802\n",
      "Explicit Estimation of theta_3: 634.4247773146847\n"
     ]
    }
   ],
   "source": [
    "def explicit_estimations(x_data, delta):\n",
    "    n = len(x_data) - 1\n",
    "    X_prev = x_data[:-1]\n",
    "    X_curr = x_data[1:]\n",
    "\n",
    "    # Calculate theta_2 (drift)\n",
    "    theta_2_n = -np.log(np.sum(X_prev * X_curr) / np.sum(X_prev**2)) / delta\n",
    "\n",
    "    # Calculate theta_3 (diffusion)\n",
    "    theta_3_n = np.sqrt(2 * theta_2_n / (n * (1 - np.exp(-2 * delta * theta_2_n))) *\n",
    "                        np.sum((X_curr - X_prev * np.exp(-delta * theta_2_n))**2))\n",
    "\n",
    "    return theta_2_n, theta_3_n\n",
    "\n",
    "\n",
    "# Compute explicit estimations\n",
    "theta_2_explicit, theta_3_explicit = explicit_estimations(x_data_OU, 1 / Nt)\n",
    "\n",
    "print(\"Explicit Estimation of theta_2:\", theta_2_explicit)\n",
    "print(\"Explicit Estimation of theta_3:\", theta_3_explicit)\n"
   ]
  },
  {
   "cell_type": "markdown",
   "metadata": {
    "id": "YpdCzJFkl0KD"
   },
   "source": [
    "Task 3. Consider  the Chan-Karolyi-Longstaff-Sanders (CKLS) model\n",
    "$$\n",
    " dX_{t} = (\\theta_{1}+\\theta_{2} X_{t}) dt + \\theta_{3} X_{t}^{\\theta_{4}} dW_{t},\\qquad X_{0}=2\n",
    "$$\n",
    "with $\\theta_{1}=1$, $\\theta_{2}=2$, $\\theta_{3}=0.5$, $\\theta_{4}=0.3$.\n",
    "\n",
    "Use the Euler method and\n",
    "* generate the sample data $X_{t_i}$ with time step $\\Delta t =10^{-4}$,  \n",
    "* estimate drift and diffusion coefficients,\n",
    "* compute confidence intervals for all parameters in a fitted SDE.  \n"
   ]
  },
  {
   "cell_type": "code",
   "execution_count": 9,
   "metadata": {
    "id": "XR-WqbzKl0KE"
   },
   "outputs": [],
   "source": [
    "Nx = 1\n",
    "Nt = 10000\n",
    "\n",
    "T = 1\n",
    "\n",
    "params_CKLS = np.array([1, 2, 0.5, 0.3])\n",
    "\n",
    "x0 = 2\n",
    "init_state = x0 * np.ones(Nx)\n",
    "\n",
    "CKLSp = CKLSprocess(params_CKLS, T, Nx, Nt, init_state)\n",
    "\n",
    "t_data, x_data_CKLS = CKLSp.EulerSolution()"
   ]
  },
  {
   "cell_type": "code",
   "execution_count": 10,
   "metadata": {
    "colab": {
     "base_uri": "https://localhost:8080/",
     "height": 449
    },
    "id": "ntgWc4bfl0KE",
    "outputId": "b4370f66-8637-46dd-8169-ace02e2f93b5"
   },
   "outputs": [
    {
     "data": {
      "image/png": "[encoded data removed]",
      "text/plain": [
       "<Figure size 640x480 with 1 Axes>"
      ]
     },
     "metadata": {},
     "output_type": "display_data"
    }
   ],
   "source": [
    "plt.plot(t_data, x_data_CKLS[:,0], label = 'CKLS process')\n",
    "\n",
    "plt.legend(loc = 'best', fancybox = True, shadow = True)\n",
    "plt.xlabel(\"t\")\n",
    "plt.ylabel(\"x(t)\")\n",
    "plt.grid(True)\n",
    "plt.show()"
   ]
  },
  {
   "cell_type": "code",
   "execution_count": 11,
   "metadata": {
    "colab": {
     "base_uri": "https://localhost:8080/"
    },
    "id": "AlPjxY4Xl0KE",
    "outputId": "9c2afc60-f178-43ee-8fd3-af96c5bdf75b"
   },
   "outputs": [
    {
     "data": {
      "text/plain": [
       "  message: CONVERGENCE: REL_REDUCTION_OF_F_<=_FACTR*EPSMCH\n",
       "  success: True\n",
       "   status: 0\n",
       "      fun: -32959.86296798\n",
       "        x: [ 1.115e+00  2.063e+00  4.907e-01  3.091e-01]\n",
       "      nit: 15\n",
       "      jac: [-6.512e-01  6.112e-02 -2.024e+00 -1.743e+00]\n",
       "     nfev: 105\n",
       "     njev: 21\n",
       " hess_inv: <4x4 LbfgsInvHessProduct with dtype=float64>"
      ]
     },
     "execution_count": 11,
     "metadata": {},
     "output_type": "execute_result"
    }
   ],
   "source": [
    "CKLSp.EulerEstimation(t_data, x_data_CKLS)"
   ]
  },
  {
   "cell_type": "code",
   "execution_count": 12,
   "metadata": {
    "colab": {
     "base_uri": "https://localhost:8080/"
    },
    "id": "B8YDUmwXl0KE",
    "outputId": "96e7337a-4f7b-4f96-9856-ccfd13ef8632"
   },
   "outputs": [
    {
     "name": "stdout",
     "output_type": "stream",
     "text": [
      "theta0 = 0.9127190273778243 +- 0.2222948243844022 with 95.0% prob\n",
      "theta1 = 2.0040555854925195 +- 0.05047348282657434 with 95.0% prob\n",
      "theta2 = 0.4990567547899933 +- 0.0030699059053358613 with 95.0% prob\n",
      "theta3 = 0.3004192668214095 +- 0.003291910490348461 with 95.0% prob\n"
     ]
    }
   ],
   "source": [
    "#Confidence intervals\n",
    "n = 50\n",
    "result = np.zeros((n, 4))\n",
    "for k in range(0, n):\n",
    "    t_data, x_data_CKLS = CKLSp.EulerSolution()\n",
    "    result[k] = CKLSp.EulerEstimation(t_data, x_data_CKLS).x\n",
    "\n",
    "\n",
    "alpha = 0.05\n",
    "q = t.ppf(1-alpha/2, n - 1)\n",
    "for i in range(0, 4):\n",
    "    m = np.mean(result[:,i])\n",
    "    v = np.std(result[:,i], ddof=1)\n",
    "    print(f\"theta{i} = {m} +- {v * q / np.sqrt(n)} with {100 - alpha * 100}% prob\")"
   ]
  },
  {
   "cell_type": "markdown",
   "metadata": {
    "id": "z350sXmPl0KE"
   },
   "source": [
    "Task 4. Consider the Vasicek model\n",
    "$$\n",
    "dX_{t} = \\theta_{1} (\\theta_{2}- X_{t}) dt + \\theta_{3} dW_{t},\\qquad X_{0}=5\n",
    "$$\n",
    "with $\\theta_{1}=3$, $\\theta_{2}=2$ and $\\theta_{3}=0.5$.\n",
    "\n",
    "Use the Ozaki method and\n",
    "*   generate the sample data $X_{t_i}$, time step $\\Delta t =10^{-2}$,\n",
    "*   estimate drift and diffusion coefficients,\n",
    "*   compute confidence intervals for all parameters in a fitted SDE."
   ]
  },
  {
   "cell_type": "code",
   "execution_count": 13,
   "metadata": {
    "id": "S67Z0D8el0KE"
   },
   "outputs": [],
   "source": [
    "Nx = 1\n",
    "Nt = 100\n",
    "\n",
    "T = 1\n",
    "\n",
    "params_OU = np.array([3, 2, 0.5])\n",
    "\n",
    "x0 = 5\n",
    "init_state = x0 * np.ones(Nx)\n",
    "\n",
    "OUp = OUprocess(params_OU, T, Nx, Nt, init_state)\n",
    "\n",
    "t_data, x_data_OU = OUp.EulerSolution()"
   ]
  },
  {
   "cell_type": "code",
   "execution_count": 14,
   "metadata": {
    "colab": {
     "base_uri": "https://localhost:8080/"
    },
    "id": "Q1twW-N1l0KE",
    "outputId": "d2604a90-a819-4de3-8ebf-629dfb65c7fe"
   },
   "outputs": [
    {
     "data": {
      "text/plain": [
       "  message: CONVERGENCE: REL_REDUCTION_OF_F_<=_FACTR*EPSMCH\n",
       "  success: True\n",
       "   status: 0\n",
       "      fun: -164.59261510027548\n",
       "        x: [ 3.485e+00  2.132e+00  4.685e-01]\n",
       "      nit: 15\n",
       "      jac: [-1.620e-04  1.648e-03 -4.007e-04]\n",
       "     nfev: 92\n",
       "     njev: 23\n",
       " hess_inv: <3x3 LbfgsInvHessProduct with dtype=float64>"
      ]
     },
     "execution_count": 14,
     "metadata": {},
     "output_type": "execute_result"
    }
   ],
   "source": [
    "OUp.OzakiEstimation(t_data, x_data_OU)"
   ]
  },
  {
   "cell_type": "code",
   "execution_count": 15,
   "metadata": {
    "colab": {
     "base_uri": "https://localhost:8080/"
    },
    "id": "5_2Txb7Hl0KE",
    "outputId": "d0c6ae4d-3778-4772-da31-7e2f638f934e"
   },
   "outputs": [
    {
     "name": "stdout",
     "output_type": "stream",
     "text": [
      "theta0 = 3.2145704082084405 +- 0.19230166401709406 with 95.0% prob\n",
      "theta1 = 2.0020579595738024 +- 0.06181389582466772 with 95.0% prob\n",
      "theta2 = 0.32090165019523914 +- 0.11070499819447524 with 95.0% prob\n"
     ]
    }
   ],
   "source": [
    "#Confidence intervals\n",
    "n = 50\n",
    "result = np.zeros((n, 3))\n",
    "for k in range(0, n):\n",
    "    t_data, x_data_OU = OUp.EulerSolution()\n",
    "    result[k] = OUp.OzakiEstimation(t_data, x_data_OU).x\n",
    "\n",
    "\n",
    "alpha = 0.05\n",
    "q = t.ppf(1-alpha/2, n - 1)\n",
    "for i in range(0, 3):\n",
    "    m = np.mean(result[:,i])\n",
    "    v = np.std(result[:,i], ddof=1)\n",
    "    print(f\"theta{i} = {m} +- {v * q / np.sqrt(n)} with {100 - alpha * 100}% prob\")"
   ]
  },
  {
   "cell_type": "markdown",
   "metadata": {
    "id": "8-I7G75Fl0KE"
   },
   "source": [
    "Task 5. Consider the model\n",
    "$$\n",
    "  dX_{t} = a(t)X_{t} dt + \\theta_{2}X_{t} dW_{t},\\qquad X_{0}=10\n",
    "$$\n",
    "with $a(t) = \\theta_{1}t$, $\\theta_{1}=-2$, $\\theta_{2}=0.2$.\n",
    "\n",
    "Use the Shoji-Ozaki method and:\n",
    "* generate the sample data $X_{t_i}$ time step $\\Delta t =10^{-3}$,  \n",
    "* estimate drift and diffusion coefficients,\n",
    "* compute confidence intervals for all parameters in a fitted SDE."
   ]
  },
  {
   "cell_type": "code",
   "execution_count": 16,
   "metadata": {
    "id": "Ok7FIiVdl0KE"
   },
   "outputs": [],
   "source": [
    "Nx = 1\n",
    "Nt = 1000\n",
    "\n",
    "T = 1\n",
    "\n",
    "params_T5 = np.array([-2, 0.2])\n",
    "\n",
    "x0 = 5\n",
    "init_state = x0 * np.ones(Nx)\n",
    "\n",
    "T5p = Task5process(params_T5, T, Nx, Nt, init_state)\n",
    "\n",
    "t_data, x_data_T5 = T5p.EulerSolution()"
   ]
  },
  {
   "cell_type": "code",
   "execution_count": 17,
   "metadata": {
    "colab": {
     "base_uri": "https://localhost:8080/"
    },
    "id": "pRD3TJKumHBz",
    "outputId": "3b3012d1-8808-4f82-e7df-3a6ca17eea3f"
   },
   "outputs": [
    {
     "data": {
      "text/plain": [
       "  message: CONVERGENCE: REL_REDUCTION_OF_F_<=_FACTR*EPSMCH\n",
       "  success: True\n",
       "   status: 0\n",
       "      fun: -2402.8075053539346\n",
       "        x: [-2.239e+00  1.949e-01]\n",
       "      nit: 14\n",
       "      jac: [-4.202e-02 -2.144e+00]\n",
       "     nfev: 87\n",
       "     njev: 29\n",
       " hess_inv: <2x2 LbfgsInvHessProduct with dtype=float64>"
      ]
     },
     "execution_count": 17,
     "metadata": {},
     "output_type": "execute_result"
    }
   ],
   "source": [
    "T5p.ShojiOzakiEstimation(t_data, x_data_T5)"
   ]
  },
  {
   "cell_type": "code",
   "execution_count": 18,
   "metadata": {
    "colab": {
     "base_uri": "https://localhost:8080/",
     "height": 449
    },
    "id": "RImgtCF_l0KF",
    "outputId": "47847ffb-8175-4d6d-bf99-eb2fe2ccc804"
   },
   "outputs": [
    {
     "data": {
      "image/png": "[encoded data removed]",
      "text/plain": [
       "<Figure size 640x480 with 1 Axes>"
      ]
     },
     "metadata": {},
     "output_type": "display_data"
    }
   ],
   "source": [
    "plt.plot(t_data, x_data_T5[:,0], label = 'Task 5 process')\n",
    "\n",
    "plt.legend(loc = 'best', fancybox = True, shadow = True)\n",
    "plt.xlabel(\"t\")\n",
    "plt.ylabel(\"x(t)\")\n",
    "plt.grid(True)\n",
    "plt.show()"
   ]
  },
  {
   "cell_type": "code",
   "execution_count": 19,
   "metadata": {
    "colab": {
     "base_uri": "https://localhost:8080/"
    },
    "id": "InRuiVhzl0KF",
    "outputId": "42039119-146b-4098-e16c-60a3612405d2"
   },
   "outputs": [
    {
     "name": "stdout",
     "output_type": "stream",
     "text": [
      "theta0 = -1.9984898097732546 +- 0.09643344990762133 with 95.0% prob\n",
      "theta1 = 0.191730917357908 +- 0.015924608817262677 with 95.0% prob\n"
     ]
    }
   ],
   "source": [
    "#Confidence intervals\n",
    "n = 50\n",
    "result = np.zeros((n, 2))\n",
    "for k in range(0, n):\n",
    "    t_data, x_data_T5 = T5p.EulerSolution()\n",
    "    result[k] = T5p.ShojiOzakiEstimation(t_data, x_data_T5).x\n",
    "\n",
    "\n",
    "alpha = 0.05\n",
    "q = t.ppf(1-alpha/2, n - 1)\n",
    "for i in range(0, 2):\n",
    "    m = np.mean(result[:,i])\n",
    "    v = np.std(result[:,i], ddof=1)\n",
    "    print(f\"theta{i} = {m} +- {v * q / np.sqrt(n)} with {100 - alpha * 100}% prob\")"
   ]
  },
  {
   "cell_type": "markdown",
   "metadata": {
    "id": "zhSjEaUGl0KF"
   },
   "source": [
    "Task 6. Consider the Hull-White (extended Vasicek) model\n",
    "$$\n",
    "  dX_{t} = a(t)(b(t)-X_{t}) dt + \\sigma(t) dW_{t},\\qquad X_{0}=2\n",
    "$$\n",
    "with $a(t) = \\theta_{1}t$, $b(t)=\\theta_{2}\\sqrt{t}$, the volatility depends on time $\\sigma(t)=\\theta_{3}t$.\n",
    "\n",
    "Generate sample data of $X_t$ with time step $\\Delta t =10^{-3}$ and $\\theta_{1}=3$, $\\theta_{2}=1$ and $\\theta_{3}=0.3$, then\n",
    "use the Kessler method and:\n",
    "*   estimate drift and diffusion coefficients,\n",
    "*   compute confidence intervals for all parameters in a fitted SDE."
   ]
  },
  {
   "cell_type": "code",
   "execution_count": 20,
   "metadata": {
    "id": "D_AM54Stl0KF"
   },
   "outputs": [],
   "source": [
    "Nx = 1\n",
    "Nt = 100\n",
    "\n",
    "T = 1\n",
    "\n",
    "params_HW = np.array([3, 1, 0.3])\n",
    "\n",
    "x0 = 2\n",
    "init_state = x0 * np.ones(Nx)\n",
    "\n",
    "HWp = HullWhiteprocess(params_HW, T, Nx, Nt, init_state)\n",
    "\n",
    "t_data, x_data_HW = HWp.EulerSolution()"
   ]
  },
  {
   "cell_type": "code",
   "execution_count": 21,
   "metadata": {
    "colab": {
     "base_uri": "https://localhost:8080/",
     "height": 449
    },
    "id": "VrNcrc22l0KF",
    "outputId": "698e4729-612f-4124-a1d5-c0b075a4219c"
   },
   "outputs": [
    {
     "data": {
      "image/png": "[encoded data removed]",
      "text/plain": [
       "<Figure size 640x480 with 1 Axes>"
      ]
     },
     "metadata": {},
     "output_type": "display_data"
    }
   ],
   "source": [
    "plt.plot(t_data, x_data_HW[:,0], label = 'HW process')\n",
    "\n",
    "plt.legend(loc = 'best', fancybox = True, shadow = True)\n",
    "plt.xlabel(\"t\")\n",
    "plt.ylabel(\"x(t)\")\n",
    "plt.grid(True)\n",
    "plt.show()"
   ]
  },
  {
   "cell_type": "code",
   "execution_count": 22,
   "metadata": {
    "colab": {
     "base_uri": "https://localhost:8080/"
    },
    "id": "GLTStP4lluvK",
    "outputId": "ad0c3132-202c-441b-c9ef-23f840d2f824"
   },
   "outputs": [
    {
     "data": {
      "text/plain": [
       "  message: CONVERGENCE: REL_REDUCTION_OF_F_<=_FACTR*EPSMCH\n",
       "  success: True\n",
       "   status: 0\n",
       "      fun: -306.4266729090374\n",
       "        x: [ 3.279e+00  9.640e-01  3.000e-01]\n",
       "      nit: 19\n",
       "      jac: [ 2.435e-01  2.558e-01  1.674e-01]\n",
       "     nfev: 184\n",
       "     njev: 46\n",
       " hess_inv: <3x3 LbfgsInvHessProduct with dtype=float64>"
      ]
     },
     "execution_count": 22,
     "metadata": {},
     "output_type": "execute_result"
    }
   ],
   "source": [
    "HWp.KesslerEstimation(t_data, x_data_HW)"
   ]
  },
  {
   "cell_type": "markdown",
   "metadata": {
    "id": "z7C4jqsMMH7b"
   },
   "source": [
    "Task. Take a process from previous tasks and approximation method, find the solution, compute confidence intervals, and compare results with baseline.\n",
    "\n",
    "Plot the graph and table.\n",
    "\n",
    "Задания по вариантам\n",
    "1. Байков Илья Павлович OU + Kessler\n",
    "1. Гонгапшев Астемир Султанович CKLS + Shoji-Ozaki\n",
    "1. Кудинкина Екатерина Андреевна CKLS + Kessler\n",
    "1. Кулига Андрей Владимирович Vasicek + Euler\n",
    "1. Мартыненко Александр Станиславович Vasicek + Shoji-Ozaki\n",
    "1. Мироманов Даниил Борисович Vasicek + Kessler\n",
    "1. Паршаков Никита Сергеевич extended Vasicek + Euler\n",
    "1. Петренко Влада Витальевна extended Vasicek + Ozaki\n",
    "1. Тумачев Серафим Дмитриевич extended Vasicek + Shoji-Ozaki\n",
    "1. Хубиев Касымхан Юсуфович model 5 + Euler\n",
    "1. Ширяева Софья Игоревна model 5 + Ozaki\n",
    "1. Якунин Сергей Александрович model 5 + Kessler\n",
    "1. Трофимов Яков Георгиевич CKLS + Ozaki\n"
   ]
  },
  {
   "cell_type": "code",
   "execution_count": 23,
   "metadata": {
    "id": "sUUdacMnMsaD"
   },
   "outputs": [
    {
     "data": {
      "image/png": "[encoded data removed]",
      "text/plain": [
       "<Figure size 640x480 with 1 Axes>"
      ]
     },
     "metadata": {},
     "output_type": "display_data"
    },
    {
     "name": "stdout",
     "output_type": "stream",
     "text": [
      "theta0 = -0.3272164638927197 ± 0.04294575913309363 with 95.0% probability\n",
      "theta1 = 1.0 ± 0.0 with 95.0% probability\n",
      "theta2 = -1.0272164593738977 ± 0.04294575997291559 with 95.0% probability\n"
     ]
    }
   ],
   "source": [
    "import numpy as np\n",
    "import matplotlib.pyplot as plt\n",
    "from scipy.stats import t\n",
    "from scipy.optimize import minimize\n",
    "\n",
    "class HullWhiteProcess:\n",
    "    def __init__(self, params, T, Nx, Nt, init_state):\n",
    "        self.theta1, self.theta2, self.theta3 = params\n",
    "        self.T = T\n",
    "        self.Nx = Nx\n",
    "        self.Nt = Nt\n",
    "        self.dt = T / Nt\n",
    "        self.init_state = init_state\n",
    "        self.time = np.linspace(0, T, Nt+1)\n",
    "\n",
    "    def EulerSolution(self):\n",
    "        X = np.zeros((self.Nt+1, self.Nx))\n",
    "        X[0, :] = self.init_state\n",
    "        for i in range(1, self.Nt+1):\n",
    "            a_t = self.theta1 * self.time[i-1]\n",
    "            b_t = self.theta2 * np.sqrt(self.time[i-1])\n",
    "            sigma_t = self.theta3 * self.time[i-1]\n",
    "            dW = np.random.normal(0, np.sqrt(self.dt), self.Nx)\n",
    "            X[i, :] = X[i-1, :] + a_t * (b_t - X[i-1, :]) * self.dt + sigma_t * dW\n",
    "        return self.time, X\n",
    "\n",
    "    def KesslerEstimation(self, t_data, x_data):\n",
    "        # Kessler method for parameter estimation\n",
    "        def loss(params):\n",
    "            theta1, theta2, theta3 = params\n",
    "            drift = theta1 * t_data\n",
    "            diff = theta3 * t_data\n",
    "            # Adjust t_data size to match x_data size by removing the last element from t_data\n",
    "            residual = np.sum((x_data[1:] - x_data[:-1] - drift[:-1] * (t_data[1:] - t_data[:-1]) - diff[:-1] * (t_data[1:] - t_data[:-1]))**2)\n",
    "            return residual\n",
    "        \n",
    "        # Initial guess for the parameters\n",
    "        initial_guess = [1, 1, 0.3]\n",
    "        result = minimize(loss, initial_guess, method='L-BFGS-B')\n",
    "        return result\n",
    "\n",
    "# Generate data using Hull-White process\n",
    "params_HW = np.array([3, 1, 0.3])\n",
    "x0 = 2\n",
    "Nx = 1\n",
    "Nt = 1000\n",
    "T = 1\n",
    "init_state = x0 * np.ones(Nx)\n",
    "HWp = HullWhiteProcess(params_HW, T, Nx, Nt, init_state)\n",
    "t_data, x_data_HW = HWp.EulerSolution()\n",
    "\n",
    "# Plotting the generated data\n",
    "plt.plot(t_data, x_data_HW[:, 0], label='HW process')\n",
    "plt.legend(loc='best', fancybox=True, shadow=True)\n",
    "plt.xlabel(\"t\")\n",
    "plt.ylabel(\"x(t)\")\n",
    "plt.grid(True)\n",
    "plt.show()\n",
    "\n",
    "# Estimating parameters using Kessler method\n",
    "result = HWp.KesslerEstimation(t_data, x_data_HW[:, 0])\n",
    "\n",
    "# Print the estimated parameters and confidence intervals\n",
    "n = 50\n",
    "result_samples = np.zeros((n, 3))\n",
    "for k in range(n):\n",
    "    t_data, x_data_HW = HWp.EulerSolution()\n",
    "    result_samples[k] = HWp.KesslerEstimation(t_data, x_data_HW[:, 0]).x\n",
    "alpha = 0.05\n",
    "q = t.ppf(1 - alpha / 2, n - 1)\n",
    "\n",
    "for i in range(3):\n",
    "    m = np.mean(result_samples[:, i])\n",
    "    v = np.std(result_samples[:, i], ddof=1)\n",
    "    print(f\"theta{i} = {m} ± {v * q / np.sqrt(n)} with 95.0% probability\")\n"
   ]
  },
  {
   "cell_type": "code",
   "execution_count": null,
   "metadata": {},
   "outputs": [],
   "source": []
  }
 ],
 "metadata": {
  "colab": {
   "provenance": []
  },
  "kernelspec": {
   "display_name": "VENV",
   "language": "python",
   "name": "python3"
  },
  "language_info": {
   "codemirror_mode": {
    "name": "ipython",
    "version": 3
   },
   "file_extension": ".py",
   "mimetype": "text/x-python",
   "name": "python",
   "nbconvert_exporter": "python",
   "pygments_lexer": "ipython3",
   "version": "3.12.4"
  }
 },
 "nbformat": 4,
 "nbformat_minor": 0
}
